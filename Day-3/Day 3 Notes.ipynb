{
 "cells": [
  {
   "cell_type": "markdown",
   "metadata": {},
   "source": [
    "# Operators ??\n",
    "\n",
    "- operators operate on operands \n",
    "\n",
    "\n",
    "# Comparison operators ?\n",
    "\n",
    "- When we want to compare two operands with some action we use comparison operators "
   ]
  },
  {
   "cell_type": "code",
   "execution_count": 2,
   "metadata": {},
   "outputs": [],
   "source": [
    "a = 1 #( = means equal to )"
   ]
  },
  {
   "cell_type": "code",
   "execution_count": 3,
   "metadata": {},
   "outputs": [],
   "source": [
    "b = 1"
   ]
  },
  {
   "cell_type": "code",
   "execution_count": 4,
   "metadata": {},
   "outputs": [
    {
     "data": {
      "text/plain": [
       "True"
      ]
     },
     "execution_count": 4,
     "metadata": {},
     "output_type": "execute_result"
    }
   ],
   "source": [
    "a == b "
   ]
  },
  {
   "cell_type": "code",
   "execution_count": 5,
   "metadata": {},
   "outputs": [
    {
     "data": {
      "text/plain": [
       "False"
      ]
     },
     "execution_count": 5,
     "metadata": {},
     "output_type": "execute_result"
    }
   ],
   "source": [
    "a != b"
   ]
  },
  {
   "cell_type": "code",
   "execution_count": 6,
   "metadata": {},
   "outputs": [],
   "source": [
    "a = 100 \n",
    "b = 120 "
   ]
  },
  {
   "cell_type": "code",
   "execution_count": 7,
   "metadata": {},
   "outputs": [
    {
     "data": {
      "text/plain": [
       "False"
      ]
     },
     "execution_count": 7,
     "metadata": {},
     "output_type": "execute_result"
    }
   ],
   "source": [
    "# 100 == 120\n",
    "a == b "
   ]
  },
  {
   "cell_type": "code",
   "execution_count": 8,
   "metadata": {},
   "outputs": [
    {
     "data": {
      "text/plain": [
       "True"
      ]
     },
     "execution_count": 8,
     "metadata": {},
     "output_type": "execute_result"
    }
   ],
   "source": [
    "# 100 != 120\n",
    "a != b "
   ]
  },
  {
   "cell_type": "code",
   "execution_count": 9,
   "metadata": {},
   "outputs": [
    {
     "data": {
      "text/plain": [
       "False"
      ]
     },
     "execution_count": 9,
     "metadata": {},
     "output_type": "execute_result"
    }
   ],
   "source": [
    "# 100 > 120\n",
    "a > b"
   ]
  },
  {
   "cell_type": "code",
   "execution_count": 10,
   "metadata": {},
   "outputs": [
    {
     "data": {
      "text/plain": [
       "True"
      ]
     },
     "execution_count": 10,
     "metadata": {},
     "output_type": "execute_result"
    }
   ],
   "source": [
    "# 100 < 120\n",
    "a < b"
   ]
  },
  {
   "cell_type": "code",
   "execution_count": 11,
   "metadata": {},
   "outputs": [
    {
     "data": {
      "text/plain": [
       "True"
      ]
     },
     "execution_count": 11,
     "metadata": {},
     "output_type": "execute_result"
    }
   ],
   "source": [
    "# 100 <= 120\n",
    "a <= b "
   ]
  },
  {
   "cell_type": "code",
   "execution_count": 12,
   "metadata": {},
   "outputs": [
    {
     "data": {
      "text/plain": [
       "False"
      ]
     },
     "execution_count": 12,
     "metadata": {},
     "output_type": "execute_result"
    }
   ],
   "source": [
    "# 100 >= 120\n",
    "a >= b "
   ]
  },
  {
   "cell_type": "markdown",
   "metadata": {},
   "source": [
    "# Logical Operators \n",
    "\n",
    "- An operator which checks two different conditions and then \n",
    "\n",
    "\n",
    "- AND \n",
    "- OR \n",
    "- NOT \n"
   ]
  },
  {
   "cell_type": "code",
   "execution_count": 13,
   "metadata": {},
   "outputs": [],
   "source": [
    "d = 34\n",
    "e = 45 \n",
    "f = 56"
   ]
  },
  {
   "cell_type": "code",
   "execution_count": 14,
   "metadata": {},
   "outputs": [
    {
     "data": {
      "text/plain": [
       "False"
      ]
     },
     "execution_count": 14,
     "metadata": {},
     "output_type": "execute_result"
    }
   ],
   "source": [
    "d == e "
   ]
  },
  {
   "cell_type": "code",
   "execution_count": 15,
   "metadata": {},
   "outputs": [
    {
     "data": {
      "text/plain": [
       "False"
      ]
     },
     "execution_count": 15,
     "metadata": {},
     "output_type": "execute_result"
    }
   ],
   "source": [
    "d == f"
   ]
  },
  {
   "cell_type": "code",
   "execution_count": 16,
   "metadata": {},
   "outputs": [
    {
     "data": {
      "text/plain": [
       "False"
      ]
     },
     "execution_count": 16,
     "metadata": {},
     "output_type": "execute_result"
    }
   ],
   "source": [
    "d == e and d == f"
   ]
  },
  {
   "cell_type": "code",
   "execution_count": 26,
   "metadata": {},
   "outputs": [
    {
     "name": "stdout",
     "output_type": "stream",
     "text": [
      "True\n",
      "False\n",
      "False\n",
      "False\n",
      "False\n"
     ]
    }
   ],
   "source": [
    "# AND \n",
    "# c1 * c2 = ans \n",
    "# 1 * 1 = 1\n",
    "# 1 * 0 = 0 \n",
    "# 0 * 1 = 0 \n",
    "# 0 * 0 = 0 \n",
    "print( True and True ) \n",
    "print( False and True )\n",
    "print( True and False )\n",
    "print( False and False )\n",
    "\n",
    "d = 34\n",
    "e = 45 \n",
    "f = 56\n",
    "\n",
    "cond1 = (d > e)\n",
    "cond2 = (e < f)\n",
    "print(cond1 and cond2)"
   ]
  },
  {
   "cell_type": "code",
   "execution_count": 27,
   "metadata": {
    "scrolled": true
   },
   "outputs": [
    {
     "name": "stdout",
     "output_type": "stream",
     "text": [
      "True\n",
      "True\n",
      "True\n",
      "False\n",
      "True\n"
     ]
    }
   ],
   "source": [
    "#OR \n",
    "#1 + 1 = 1\n",
    "#0 + 1 = 1\n",
    "#1 + 0 = 1\n",
    "#0 + 0 = 0\n",
    "\n",
    "print( True or True ) \n",
    "print( False or True )\n",
    "print( True or False )\n",
    "print( False or False )\n",
    "\n",
    "d = 34\n",
    "e = 45 \n",
    "f = 56\n",
    "\n",
    "cond1 = (d > e)\n",
    "cond2 = (e < f)\n",
    "print(cond1 or cond2)"
   ]
  },
  {
   "cell_type": "code",
   "execution_count": 23,
   "metadata": {},
   "outputs": [
    {
     "name": "stdout",
     "output_type": "stream",
     "text": [
      "False\n",
      "True\n"
     ]
    }
   ],
   "source": [
    "# NOT \n",
    "print(not True)\n",
    "print(not False)"
   ]
  },
  {
   "cell_type": "markdown",
   "metadata": {},
   "source": [
    "# Chained Comp. Operators "
   ]
  },
  {
   "cell_type": "code",
   "execution_count": 31,
   "metadata": {},
   "outputs": [
    {
     "name": "stdout",
     "output_type": "stream",
     "text": [
      "True\n"
     ]
    }
   ],
   "source": [
    "d = 34\n",
    "e = 45 \n",
    "f = 56\n",
    "\n",
    "print(d < e < f)"
   ]
  },
  {
   "cell_type": "markdown",
   "metadata": {},
   "source": [
    "# Statements \n",
    "\n",
    "- IF ELSE  \n",
    "\n",
    "- Loops "
   ]
  },
  {
   "cell_type": "code",
   "execution_count": 1,
   "metadata": {},
   "outputs": [],
   "source": [
    "passedClassNine = True "
   ]
  },
  {
   "cell_type": "code",
   "execution_count": 2,
   "metadata": {},
   "outputs": [
    {
     "data": {
      "text/plain": [
       "True"
      ]
     },
     "execution_count": 2,
     "metadata": {},
     "output_type": "execute_result"
    }
   ],
   "source": [
    "passedClassNine"
   ]
  },
  {
   "cell_type": "code",
   "execution_count": 3,
   "metadata": {},
   "outputs": [
    {
     "name": "stdout",
     "output_type": "stream",
     "text": [
      "Purchase Class 10th books\n"
     ]
    }
   ],
   "source": [
    "if passedClassNine == True:\n",
    "    print(\"Purchase Class 10th books\")\n",
    "else:\n",
    "    print(\"Purchase Class 9th Note books\")"
   ]
  },
  {
   "cell_type": "markdown",
   "metadata": {},
   "source": [
    "if __condition____ : \n",
    "    code block1\n",
    "    code block1\n",
    "    code block1\n",
    "else:\n",
    "    code block2\n",
    "    code block2\n",
    "    code block2"
   ]
  },
  {
   "cell_type": "code",
   "execution_count": 4,
   "metadata": {},
   "outputs": [
    {
     "name": "stdout",
     "output_type": "stream",
     "text": [
      "You are promoted to class 10\n"
     ]
    }
   ],
   "source": [
    "marksInClass9 = 41\n",
    "\n",
    "if marksInClass9 >= 41:\n",
    "    print(\"You are promoted to class 10\")\n",
    "elif marksInClass9 >=35 and marksInClass9 <= 40:\n",
    "    print(\"You will be considered for Grace marks\")\n",
    "elif marksInClass9 >= 31 and marksInClass9< 35:\n",
    "    print(\"Prents need to visit principal sir/ma'am\")\n",
    "else:\n",
    "    print(\"Sorry repeat class 9 again\")"
   ]
  },
  {
   "cell_type": "markdown",
   "metadata": {},
   "source": [
    "# How to get input from user ??\n",
    "\n",
    "input function => \n",
    "\n",
    "- input()"
   ]
  },
  {
   "cell_type": "code",
   "execution_count": 1,
   "metadata": {},
   "outputs": [
    {
     "name": "stdout",
     "output_type": "stream",
     "text": [
      "Enter something : Heloo\n"
     ]
    }
   ],
   "source": [
    "someText = input(\"Enter something : \")"
   ]
  },
  {
   "cell_type": "code",
   "execution_count": 2,
   "metadata": {},
   "outputs": [
    {
     "data": {
      "text/plain": [
       "'Heloo'"
      ]
     },
     "execution_count": 2,
     "metadata": {},
     "output_type": "execute_result"
    }
   ],
   "source": [
    "someText"
   ]
  },
  {
   "cell_type": "code",
   "execution_count": 3,
   "metadata": {},
   "outputs": [
    {
     "name": "stdout",
     "output_type": "stream",
     "text": [
      "Enter some Number = 200\n"
     ]
    }
   ],
   "source": [
    "someNumber = int(input(\"Enter some Number = \"))\n"
   ]
  },
  {
   "cell_type": "code",
   "execution_count": 4,
   "metadata": {},
   "outputs": [
    {
     "data": {
      "text/plain": [
       "200"
      ]
     },
     "execution_count": 4,
     "metadata": {},
     "output_type": "execute_result"
    }
   ],
   "source": [
    "someNumber"
   ]
  },
  {
   "cell_type": "code",
   "execution_count": 5,
   "metadata": {},
   "outputs": [
    {
     "data": {
      "text/plain": [
       "str"
      ]
     },
     "execution_count": 5,
     "metadata": {},
     "output_type": "execute_result"
    }
   ],
   "source": [
    "type(someText)"
   ]
  },
  {
   "cell_type": "code",
   "execution_count": 6,
   "metadata": {},
   "outputs": [
    {
     "data": {
      "text/plain": [
       "int"
      ]
     },
     "execution_count": 6,
     "metadata": {},
     "output_type": "execute_result"
    }
   ],
   "source": [
    "type(someNumber)"
   ]
  },
  {
   "cell_type": "markdown",
   "metadata": {},
   "source": [
    "# LOOPS ??\n",
    "\n",
    "Loops are been used for doing some kinds of repetative tasks \n",
    "\n",
    "Loops are been used for iterating through a particular objectsin python"
   ]
  },
  {
   "cell_type": "code",
   "execution_count": 58,
   "metadata": {},
   "outputs": [],
   "source": [
    "lst = [1,2,3,4,5,6,7,8,9]"
   ]
  },
  {
   "cell_type": "code",
   "execution_count": 59,
   "metadata": {},
   "outputs": [
    {
     "data": {
      "text/plain": [
       "[1, 2, 3, 4, 5, 6, 7, 8, 9]"
      ]
     },
     "execution_count": 59,
     "metadata": {},
     "output_type": "execute_result"
    }
   ],
   "source": [
    "lst"
   ]
  },
  {
   "cell_type": "code",
   "execution_count": 60,
   "metadata": {},
   "outputs": [
    {
     "name": "stdout",
     "output_type": "stream",
     "text": [
      "list item -  1\n",
      "list item -  2\n",
      "list item -  3\n",
      "list item -  4\n",
      "list item -  5\n",
      "list item -  6\n",
      "list item -  7\n",
      "list item -  8\n",
      "list item -  9\n"
     ]
    }
   ],
   "source": [
    "for item in lst:\n",
    "    print(\"list item - \", item)"
   ]
  },
  {
   "cell_type": "markdown",
   "metadata": {},
   "source": [
    "\n",
    "for element in ObjectYouWantToItterate:\n",
    "    code block for the element\n",
    "    code blocl for the element\n",
    "    \n",
    "What all object you can iterate ?\n",
    "- List \n",
    "- String \n",
    "- Tuple \n",
    "- Dict\n",
    "- Set \n",
    "Where you are having collections"
   ]
  },
  {
   "cell_type": "code",
   "execution_count": 8,
   "metadata": {},
   "outputs": [],
   "source": [
    "abc = \"Meet Vansjaliya\""
   ]
  },
  {
   "cell_type": "code",
   "execution_count": 9,
   "metadata": {},
   "outputs": [
    {
     "data": {
      "text/plain": [
       "'Meet Vansjaliya'"
      ]
     },
     "execution_count": 9,
     "metadata": {},
     "output_type": "execute_result"
    }
   ],
   "source": [
    "abc "
   ]
  },
  {
   "cell_type": "code",
   "execution_count": 10,
   "metadata": {},
   "outputs": [
    {
     "name": "stdout",
     "output_type": "stream",
     "text": [
      "M\n",
      "e\n",
      "e\n",
      "t\n",
      " \n",
      "V\n",
      "a\n",
      "n\n",
      "s\n",
      "j\n",
      "a\n",
      "l\n",
      "i\n",
      "y\n",
      "a\n"
     ]
    }
   ],
   "source": [
    "for element in abc:\n",
    "    print(element)"
   ]
  },
  {
   "cell_type": "code",
   "execution_count": 64,
   "metadata": {},
   "outputs": [],
   "source": [
    "# Print all the even numbers in the range of 1- 100"
   ]
  },
  {
   "cell_type": "code",
   "execution_count": 11,
   "metadata": {},
   "outputs": [],
   "source": [
    "lst = [1,2,3,4,5,6,7,8,9]"
   ]
  },
  {
   "cell_type": "code",
   "execution_count": 12,
   "metadata": {},
   "outputs": [],
   "source": [
    "lst = list(range(1,101))"
   ]
  },
  {
   "cell_type": "code",
   "execution_count": 78,
   "metadata": {},
   "outputs": [
    {
     "data": {
      "text/plain": [
       "1"
      ]
     },
     "execution_count": 78,
     "metadata": {},
     "output_type": "execute_result"
    }
   ],
   "source": [
    "9 % 2 \n",
    "# % operator is actually known as moduloo operator,\n",
    "\n",
    "#which give the reminder of the division"
   ]
  },
  {
   "cell_type": "code",
   "execution_count": 13,
   "metadata": {},
   "outputs": [
    {
     "name": "stdout",
     "output_type": "stream",
     "text": [
      "2\n",
      "4\n",
      "6\n",
      "8\n",
      "10\n",
      "12\n",
      "14\n",
      "16\n",
      "18\n",
      "20\n",
      "22\n",
      "24\n",
      "26\n",
      "28\n",
      "30\n",
      "32\n",
      "34\n",
      "36\n",
      "38\n",
      "40\n",
      "42\n",
      "44\n",
      "46\n",
      "48\n",
      "50\n",
      "52\n",
      "54\n",
      "56\n",
      "58\n",
      "60\n",
      "62\n",
      "64\n",
      "66\n",
      "68\n",
      "70\n",
      "72\n",
      "74\n",
      "76\n",
      "78\n",
      "80\n",
      "82\n",
      "84\n",
      "86\n",
      "88\n",
      "90\n",
      "92\n",
      "94\n",
      "96\n",
      "98\n",
      "100\n",
      "THis is the end of for Loop\n"
     ]
    }
   ],
   "source": [
    "for i in lst:\n",
    "    if i%2 == 0:\n",
    "        print(i)\n",
    "else:\n",
    "    print(\"THis is the end of for Loop\")"
   ]
  },
  {
   "cell_type": "code",
   "execution_count": 14,
   "metadata": {},
   "outputs": [
    {
     "name": "stdout",
     "output_type": "stream",
     "text": [
      "1\n",
      "3\n",
      "5\n",
      "7\n",
      "9\n",
      "11\n",
      "13\n",
      "15\n",
      "17\n",
      "19\n",
      "21\n",
      "23\n",
      "25\n",
      "27\n",
      "29\n",
      "31\n",
      "33\n",
      "35\n",
      "37\n",
      "39\n",
      "41\n",
      "43\n",
      "45\n",
      "47\n",
      "49\n",
      "51\n",
      "53\n",
      "55\n",
      "57\n",
      "59\n",
      "61\n",
      "63\n",
      "65\n",
      "67\n",
      "69\n",
      "71\n",
      "73\n",
      "75\n",
      "77\n",
      "79\n",
      "81\n",
      "83\n",
      "85\n",
      "87\n",
      "89\n",
      "91\n",
      "93\n",
      "95\n",
      "97\n",
      "99\n",
      "THis is the end of for Loop\n"
     ]
    }
   ],
   "source": [
    "for i in lst:\n",
    "    if i%2 == 1:\n",
    "        print(i)\n",
    "else:\n",
    "    print(\"THis is the end of for Loop\")"
   ]
  },
  {
   "cell_type": "markdown",
   "metadata": {},
   "source": [
    "# While Loops\n",
    "\n",
    "- When you dont have any measurable end for any repitative tasks "
   ]
  },
  {
   "cell_type": "markdown",
   "metadata": {},
   "source": [
    "Syntax - \n",
    "\n",
    "while condition :\n",
    "    codeBlock\n",
    "    codeBlock\n",
    "    codeBlock"
   ]
  },
  {
   "cell_type": "code",
   "execution_count": 82,
   "metadata": {},
   "outputs": [
    {
     "name": "stdout",
     "output_type": "stream",
     "text": [
      "33000  You can remove your Seat belts\n",
      "32000  You can remove your Seat belts\n",
      "31000  You can remove your Seat belts\n",
      "30000  You can remove your Seat belts\n",
      "29000  You can remove your Seat belts\n",
      "28000  You can remove your Seat belts\n",
      "27000  You can remove your Seat belts\n",
      "26000  You can remove your Seat belts\n",
      "25000  You can remove your Seat belts\n",
      "24000  You can remove your Seat belts\n",
      "23000  You can remove your Seat belts\n",
      "22000  You can remove your Seat belts\n",
      "21000  You can remove your Seat belts\n",
      "20000  You can remove your Seat belts\n",
      "19000  You can remove your Seat belts\n",
      "18000  You can remove your Seat belts\n",
      "17000  You can remove your Seat belts\n",
      "16000  You can remove your Seat belts\n",
      "15000  You can remove your Seat belts\n",
      "14000  You can remove your Seat belts\n",
      "13000  You can remove your Seat belts\n",
      "12000  You can remove your Seat belts\n",
      "11000  You can remove your Seat belts\n",
      "10000  You can remove your Seat belts\n",
      "9000  You can remove your Seat belts\n",
      "8000  You can remove your Seat belts\n",
      "7000  You can remove your Seat belts\n",
      "6000  You can remove your Seat belts\n",
      "5000  You can remove your Seat belts\n",
      "4000  You can remove your Seat belts\n",
      "3000  You can remove your Seat belts\n",
      "2000  You can remove your Seat belts\n",
      "1000  Please Fasten your Seat belts\n"
     ]
    }
   ],
   "source": [
    "altitudeInSky = 33000\n",
    "\n",
    "while altitudeInSky > 1000:\n",
    "    print(altitudeInSky, \" You can remove your Seat belts\")\n",
    "    altitudeInSky = altitudeInSky - 1000\n",
    "else:\n",
    "    print(altitudeInSky, \" Please Fasten your Seat belts\")\n",
    "    "
   ]
  },
  {
   "cell_type": "code",
   "execution_count": 15,
   "metadata": {},
   "outputs": [
    {
     "name": "stdout",
     "output_type": "stream",
     "text": [
      "Enter your password meet\n",
      "Password accepted, you can goahead\n"
     ]
    }
   ],
   "source": [
    "password = \"\"\n",
    "while password != \"meet\":\n",
    "    password = input(\"Enter your password \")\n",
    "else:\n",
    "    print(\"Password accepted, you can goahead\")"
   ]
  },
  {
   "cell_type": "code",
   "execution_count": null,
   "metadata": {},
   "outputs": [],
   "source": []
  }
 ],
 "metadata": {
  "kernelspec": {
   "display_name": "Python 3",
   "language": "python",
   "name": "python3"
  },
  "language_info": {
   "codemirror_mode": {
    "name": "ipython",
    "version": 3
   },
   "file_extension": ".py",
   "mimetype": "text/x-python",
   "name": "python",
   "nbconvert_exporter": "python",
   "pygments_lexer": "ipython3",
   "version": "3.8.3"
  }
 },
 "nbformat": 4,
 "nbformat_minor": 2
}
