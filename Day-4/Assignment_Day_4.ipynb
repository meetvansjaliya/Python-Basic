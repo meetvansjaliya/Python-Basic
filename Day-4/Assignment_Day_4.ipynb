{
  "nbformat": 4,
  "nbformat_minor": 0,
  "metadata": {
    "colab": {
      "name": "Assignment Day 4.ipynb",
      "provenance": []
    },
    "kernelspec": {
      "name": "python3",
      "display_name": "Python 3"
    }
  },
  "cells": [
    {
      "cell_type": "markdown",
      "metadata": {
        "id": "PmbiD2k2wZN-",
        "colab_type": "text"
      },
      "source": [
        "# **Assignment Day 4**"
      ]
    },
    {
      "cell_type": "markdown",
      "metadata": {
        "id": "Spa2iUjnwhez",
        "colab_type": "text"
      },
      "source": [
        "# 1. Make a function for taking in a number and printing a Fibonacci Series"
      ]
    },
    {
      "cell_type": "code",
      "metadata": {
        "id": "MUazKKhGwpN7",
        "colab_type": "code",
        "colab": {
          "base_uri": "https://localhost:8080/",
          "height": 51
        },
        "outputId": "c294d255-ee81-4920-b331-0d747296c229"
      },
      "source": [
        "def Fibonacci_series(Number):\n",
        "  if (Number == 0):\n",
        "    return 0\n",
        "  elif (Number == 1):\n",
        "    return 1\n",
        "  else:\n",
        "    return (Fibonacci_series(Number - 2) + Fibonacci_series(Number - 1))\n",
        "\n",
        "n = int(input(\"Enter the value of 'n': \"))\n",
        "print(\"Fibonacci Series:\", end = ' ')\n",
        "for n in range(0, n):\n",
        "  print(Fibonacci_series(n), end = ' ')"
      ],
      "execution_count": null,
      "outputs": [
        {
          "output_type": "stream",
          "text": [
            "Enter the value of 'n': 5\n",
            "Fibonacci Series: 0 1 1 2 3 "
          ],
          "name": "stdout"
        }
      ]
    },
    {
      "cell_type": "markdown",
      "metadata": {
        "id": "0M78rWadxNoD",
        "colab_type": "text"
      },
      "source": [
        "2. File handling question\n",
        "- Open a Binary File\n",
        "- Write “I love LetsUpgrade”\n",
        "- Read that file again\n",
        "\n"
      ]
    },
    {
      "cell_type": "code",
      "metadata": {
        "id": "LtpfnH4EZM73",
        "colab_type": "code",
        "colab": {}
      },
      "source": [
        "\n",
        "file = open(\"Binary File.txt\",\"w\")\n",
        "file.close()"
      ],
      "execution_count": null,
      "outputs": []
    },
    {
      "cell_type": "code",
      "metadata": {
        "id": "KH9Fsz8CxkFm",
        "colab_type": "code",
        "colab": {}
      },
      "source": [
        "file = open(\"Binary File.txt\",\"w\")\n",
        "file.write(\"I love LetsUpgrade\")\n",
        "file.close()"
      ],
      "execution_count": null,
      "outputs": []
    },
    {
      "cell_type": "code",
      "metadata": {
        "id": "wmAsdEN5xzYB",
        "colab_type": "code",
        "colab": {
          "base_uri": "https://localhost:8080/",
          "height": 68
        },
        "outputId": "685c470e-dd6d-41ee-9bf2-7191f6c74730"
      },
      "source": [
        "file = open(\"Binary File.txt\",\"r\")\n",
        "print(file.read())\n",
        "file.close()"
      ],
      "execution_count": null,
      "outputs": [
        {
          "output_type": "stream",
          "text": [
            "I love LetsUpgrade\n",
            "\n",
            "We all love Python Classes with LU\n"
          ],
          "name": "stdout"
        }
      ]
    },
    {
      "cell_type": "code",
      "metadata": {
        "id": "BvhIv0WMyHbJ",
        "colab_type": "code",
        "colab": {}
      },
      "source": [
        "file = open(\"Binary File.txt\",\"a\")\n",
        "file.write(\"\\n\\nWe all love Python Classes with LU\")\n",
        "file.close()"
      ],
      "execution_count": null,
      "outputs": []
    },
    {
      "cell_type": "markdown",
      "metadata": {
        "id": "Pf46gc2-zCIG",
        "colab_type": "text"
      },
      "source": [
        "3. Make a static Movie Recommender system which take in users input of what kind of movie they want to\n"
      ]
    },
    {
      "cell_type": "code",
      "metadata": {
        "id": "SyvoEGhq74lS",
        "colab_type": "code",
        "colab": {}
      },
      "source": [
        "def movieSuggestor(typee):\n",
        "    num1 = random.randint(1, 5)\n",
        "    num2 = random.randint(1, 5)\n",
        "    if num2 == num1:\n",
        "        num2 = random.randint(1, 5)\n",
        "    \n",
        "    if typee.lower() == \"anim\":\n",
        "        if num1 == 1 or num2 == 1:\n",
        "            print(\"Lion King\")\n",
        "        if num1 == 2 or num2 == 2:\n",
        "            print(\"Toy Story\")\n",
        "        if num1 == 3 or num2 == 3:\n",
        "            print(\"Car 1 or 3 \")\n",
        "        if num1 == 4 or num2 == 4:\n",
        "            print(\"Knugfu Panda\")\n",
        "        if num1 == 5 or num2 == 5 :\n",
        "            print(\"Minions\")\n",
        "            \n",
        "    elif typee.lower() == \"romcom\":\n",
        "        if num1 == 1 or num2 == 1:\n",
        "            print(\"Frozen\")\n",
        "        if num1 == 2 or num2 == 2:\n",
        "            print(\"Wall e\")\n",
        "        if num1 == 3 or num2 == 3:\n",
        "            print(\"Her\")\n",
        "        if num1 == 4 or num2 == 4:\n",
        "            print(\"Kabir Singh\")\n",
        "        if num1 == 5 or num2 == 5 :\n",
        "            print(\"Sairat\")\n",
        "    elif typee.lower() == \"action\":\n",
        "        if num1 == 1 or num2 == 1:\n",
        "            print(\"Captian all the movies\")\n",
        "        if num1 == 2 or num2 == 2:\n",
        "            print(\"Iron Man \")\n",
        "        if num1 == 3 or num2 == 3:\n",
        "            print(\"Terminator\")\n",
        "        if num1 == 4 or num2 == 4:\n",
        "            print(\"FNF all the parts\")\n",
        "        if num1 == 5 or num2 == 5 :\n",
        "            print(\"Avengers all the part | marvel\")\n",
        "    elif typee.lower() == \"thriller\":\n",
        "        if num1 == 1 or num2 == 1:\n",
        "            print(\"MIB\")\n",
        "        if num1 == 2 or num2 == 2:\n",
        "            print(\"Wrong Turn\")\n",
        "        if num1 == 3 or num2 == 3:\n",
        "            print(\"Get Out\")\n",
        "        if num1 == 4 or num2 == 4:\n",
        "            print(\"Extration\")\n",
        "        if num1 == 5 or num2 == 5 :\n",
        "            print(\"KGF\")\n",
        "    \n",
        "    "
      ],
      "execution_count": null,
      "outputs": []
    }
  ]
}