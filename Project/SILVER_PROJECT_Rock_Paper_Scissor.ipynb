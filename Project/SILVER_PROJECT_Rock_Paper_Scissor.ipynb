{
  "nbformat": 4,
  "nbformat_minor": 0,
  "metadata": {
    "colab": {
      "name": "SILVER PROJECT: Rock - Paper - Scissor.ipynb",
      "provenance": []
    },
    "kernelspec": {
      "name": "python3",
      "display_name": "Python 3"
    }
  },
  "cells": [
    {
      "cell_type": "markdown",
      "metadata": {
        "id": "y7NUt8qFLX-U",
        "colab_type": "text"
      },
      "source": [
        "# **SILVER PROJECT: Rock - Paper - Scissor**"
      ]
    },
    {
      "cell_type": "code",
      "metadata": {
        "id": "3X7JgdOGLW1u",
        "colab_type": "code",
        "colab": {
          "base_uri": "https://localhost:8080/",
          "height": 157
        },
        "outputId": "86ea53b3-e225-4c67-88e9-dc7bcac74354"
      },
      "source": [
        "from random import randint\n",
        "\n",
        "#create a list of play options\n",
        "t = [\"Rock\", \"Paper\", \"Scissors\"]\n",
        "\n",
        "#assign a random play to the computer\n",
        "computer = t[randint(0,2)]\n",
        "\n",
        "#set player to False\n",
        "player = False\n",
        "\n",
        "while player == False:\n",
        "#set player to True\n",
        "    player = input(\"Rock, Paper, Scissors?\")\n",
        "    if player == computer:\n",
        "        print(\"Tie!\")\n",
        "    elif player == \"Rock\":\n",
        "        if computer == \"Paper\":\n",
        "            print(\"You lose!\", computer, \"covers\", player)\n",
        "        else:\n",
        "            print(\"You win!\", player, \"smashes\", computer)\n",
        "    elif player == \"Paper\":\n",
        "        if computer == \"Scissors\":\n",
        "            print(\"You lose!\", computer, \"cut\", player)\n",
        "        else:\n",
        "            print(\"You win!\", player, \"covers\", computer)\n",
        "    elif player == \"Scissors\":\n",
        "        if computer == \"Rock\":\n",
        "            print(\"You lose...\", computer, \"smashes\", player)\n",
        "        else:\n",
        "            print(\"You win!\", player, \"cut\", computer)\n",
        "    else:\n",
        "        print(\"That's not a valid play. Check your spelling!\")\n",
        "    #player was set to True, but we want it to be False so the loop continues\n",
        "    player = False\n",
        "    computer = t[randint(0,2)]"
      ],
      "execution_count": null,
      "outputs": [
        {
          "output_type": "stream",
          "text": [
            "Rock, Paper, Scissors?Rock\n",
            "You win! Rock smashes Scissors\n",
            "Rock, Paper, Scissors?Paper\n",
            "You lose! Scissors cut Paper\n",
            "Rock, Paper, Scissors?Scissors\n",
            "You win! Scissors cut Paper\n"
          ],
          "name": "stdout"
        }
      ]
    }
  ]
}