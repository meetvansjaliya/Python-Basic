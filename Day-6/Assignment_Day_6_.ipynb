{
  "nbformat": 4,
  "nbformat_minor": 0,
  "metadata": {
    "colab": {
      "name": "Assignment Day 6 .ipynb",
      "provenance": []
    },
    "kernelspec": {
      "name": "python3",
      "display_name": "Python 3"
    }
  },
  "cells": [
    {
      "cell_type": "markdown",
      "metadata": {
        "id": "tSV-JfaII_Jf",
        "colab_type": "text"
      },
      "source": [
        "#Assignment Day 6 "
      ]
    },
    {
      "cell_type": "markdown",
      "metadata": {
        "id": "Zl_MWq8wJKS9",
        "colab_type": "text"
      },
      "source": [
        "# Question 1"
      ]
    },
    {
      "cell_type": "code",
      "metadata": {
        "id": "PkSP9zNDI8K6",
        "colab_type": "code",
        "colab": {}
      },
      "source": [
        "class Bank():\n",
        "    def __init__(self,owner,balance=0):\n",
        "        self.owner = owner\n",
        "        self.balance = balance\n",
        "        \n",
        "    def deposit(self, balance):\n",
        "        self.balance+=  balance\n",
        "        return self.balance\n",
        "    \n",
        "    def withdraw(self,balance):\n",
        "            if self.balance >= balance:\n",
        "                self.balance-=balance\n",
        "            else:\n",
        "                return \"Not Possible only \" + str(self.balance) + ' is avaliable'\n",
        "            return self.balance"
      ],
      "execution_count": null,
      "outputs": []
    },
    {
      "cell_type": "code",
      "metadata": {
        "id": "g7vm1P8_JnQS",
        "colab_type": "code",
        "colab": {}
      },
      "source": [
        "account1 = Bank('account1',300)"
      ],
      "execution_count": null,
      "outputs": []
    },
    {
      "cell_type": "code",
      "metadata": {
        "id": "Kzy4ekNfJ0Rf",
        "colab_type": "code",
        "colab": {
          "base_uri": "https://localhost:8080/",
          "height": 34
        },
        "outputId": "f85fa0b3-0a30-4532-e8be-921da2e01f72"
      },
      "source": [
        "account1.deposit(2000)"
      ],
      "execution_count": null,
      "outputs": [
        {
          "output_type": "execute_result",
          "data": {
            "text/plain": [
              "2300"
            ]
          },
          "metadata": {
            "tags": []
          },
          "execution_count": 4
        }
      ]
    },
    {
      "cell_type": "code",
      "metadata": {
        "id": "D3w1OSu8J-Jz",
        "colab_type": "code",
        "colab": {
          "base_uri": "https://localhost:8080/",
          "height": 34
        },
        "outputId": "966724c1-2f7c-4745-8a38-906998418c33"
      },
      "source": [
        "account1.withdraw(2000)"
      ],
      "execution_count": null,
      "outputs": [
        {
          "output_type": "execute_result",
          "data": {
            "text/plain": [
              "300"
            ]
          },
          "metadata": {
            "tags": []
          },
          "execution_count": 5
        }
      ]
    },
    {
      "cell_type": "markdown",
      "metadata": {
        "id": "ST-gKLs6KBJx",
        "colab_type": "text"
      },
      "source": [
        "# **Question 2**"
      ]
    },
    {
      "cell_type": "code",
      "metadata": {
        "id": "k3xQnsIbKI7b",
        "colab_type": "code",
        "colab": {}
      },
      "source": [
        "import math\n",
        "class Cone:\n",
        "    def __init__(self,r=1,h=1):\n",
        "        self.r = r\n",
        "        self.h = h\n",
        "        self.volume =0\n",
        "        self.surface_area = 0\n",
        "    def volume_fun(self):\n",
        "        self.volume = math.pi * self.r * self.r * (self.h/3)\n",
        "        return self.volume\n",
        "    def surface_area_fun(self):\n",
        "        base = math.pi * self.r * self.r\n",
        "        side = math.pi * self.r * math.sqrt(self.r**2 + self.h**2)\n",
        "        self.surface_area = base + side\n",
        "        return self.surface_area"
      ],
      "execution_count": null,
      "outputs": []
    },
    {
      "cell_type": "code",
      "metadata": {
        "id": "n1tIA7t9KP0m",
        "colab_type": "code",
        "colab": {}
      },
      "source": [
        "cone1 = Cone(3,6)"
      ],
      "execution_count": null,
      "outputs": []
    },
    {
      "cell_type": "code",
      "metadata": {
        "id": "us3nYwyAKVwl",
        "colab_type": "code",
        "colab": {
          "base_uri": "https://localhost:8080/",
          "height": 34
        },
        "outputId": "1c3ede63-b4f9-456f-c632-0d361ac31555"
      },
      "source": [
        "cone1.volume_fun()"
      ],
      "execution_count": null,
      "outputs": [
        {
          "output_type": "execute_result",
          "data": {
            "text/plain": [
              "56.548667764616276"
            ]
          },
          "metadata": {
            "tags": []
          },
          "execution_count": 8
        }
      ]
    }
  ]
}